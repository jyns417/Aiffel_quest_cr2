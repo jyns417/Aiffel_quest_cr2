{
  "nbformat": 4,
  "nbformat_minor": 0,
  "metadata": {
    "colab": {
      "provenance": [],
      "include_colab_link": true
    },
    "kernelspec": {
      "name": "python3",
      "display_name": "Python 3"
    },
    "language_info": {
      "name": "python"
    }
  },
  "cells": [
    {
      "cell_type": "markdown",
      "metadata": {
        "id": "view-in-github",
        "colab_type": "text"
      },
      "source": [
        "<a href=\"https://colab.research.google.com/github/jyns417/Aiffel_quest_cr2/blob/master/MainQuest/Quest02/MainQuest02.ipynb\" target=\"_parent\"><img src=\"https://colab.research.google.com/assets/colab-badge.svg\" alt=\"Open In Colab\"/></a>"
      ]
    },
    {
      "cell_type": "markdown",
      "source": [
        "## MainQuest 02\n",
        "\n",
        "1. 데이터 전처리\n",
        "2. Decision Tree 으로 기본 모델 만들기\n",
        "3. Feature Engineering\n",
        "4. 비교모델 만들기\n",
        "5. 모델별로 비교분석\n",
        "6. 회고 및 Reference"
      ],
      "metadata": {
        "id": "Q8qhxjqAdaba"
      }
    },
    {
      "cell_type": "markdown",
      "source": [
        "## 1. 데이터 전처리\n"
      ],
      "metadata": {
        "id": "MjOVDCJ79rnG"
      }
    },
    {
      "cell_type": "code",
      "execution_count": 127,
      "metadata": {
        "id": "yxFeydwIM38u"
      },
      "outputs": [],
      "source": [
        "import numpy as np\n",
        "import pandas as pd\n",
        "import seaborn as sns\n",
        "import matplotlib.pyplot as plt\n",
        "import os\n",
        "\n",
        "# 데이터셋 가져오기\n",
        "csv_path = \"/content/Pokemon.csv\"\n",
        "original_data = pd.read_csv(csv_path)\n",
        "\n",
        "# curation 할수잇도록 copy 만들기\n",
        "pokemon = original_data.copy()\n",
        "#legendary = pokemon[pokemon[\"Legendary\"] == True].reset_index(drop=True)\n",
        "#ordinary = pokemon[pokemon[\"Legendary\"] == False].reset_index(drop=True)\n",
        "\n",
        "types = list(set(pokemon[\"Type 1\"]))"
      ]
    },
    {
      "cell_type": "code",
      "source": [
        "features = ['Total', 'HP', 'Attack', 'Defense', 'Sp. Atk', 'Sp. Def', 'Speed', 'Generation'] #데이터 중에서 Name, Type1,2 는 유용하지 않으므로 feature 에서 제외\n",
        "target = 'Legendary' #target 설정\n",
        "\n",
        "# original data 에서 feature, target 을 column 으로 갖는 input X, target y\n",
        "X=original_data[features]\n",
        "y=original_data[target]\n",
        "\n",
        "# train, test set 으로 나눠주기\n",
        "from sklearn.model_selection import train_test_split\n",
        "X_train, X_test, y_train, y_test = train_test_split(X,y,test_size=0.2, random_state=15)\n",
        "\n",
        "#print(X_train.shape, y_train.shape)\n",
        "#print(X_test.shape, y_test.shape)"
      ],
      "metadata": {
        "id": "vHPTaveTMoI0"
      },
      "execution_count": 128,
      "outputs": []
    },
    {
      "cell_type": "markdown",
      "source": [
        "## 2. Decision Tree 으로 기본 모델 만들고 평가하기"
      ],
      "metadata": {
        "id": "OzwsNMtMNmwZ"
      }
    },
    {
      "cell_type": "code",
      "source": [
        "from sklearn.tree import DecisionTreeClassifier\n",
        "\n",
        "# model 만들기\n",
        "model=DecisionTreeClassifier(random_state=25)\n",
        "\n",
        "# model 에 training 시킨 후 test 값 얻기\n",
        "model.fit(X_train, y_train)\n",
        "y_pred=model.predict(X_test)"
      ],
      "metadata": {
        "id": "HEd7WPx1Nphc"
      },
      "execution_count": 129,
      "outputs": []
    },
    {
      "cell_type": "code",
      "source": [
        "from sklearn.metrics import confusion_matrix\n",
        "cm0=confusion_matrix(y_test, y_pred)"
      ],
      "metadata": {
        "id": "an7jipoEOEeG"
      },
      "execution_count": 130,
      "outputs": []
    },
    {
      "cell_type": "code",
      "source": [
        "from sklearn.metrics import classification_report\n",
        "print(classification_report(y_test, y_pred))"
      ],
      "metadata": {
        "colab": {
          "base_uri": "https://localhost:8080/"
        },
        "id": "uQVXhtpBOV1u",
        "outputId": "eb60af6e-a4d0-4d7c-9505-b5238b0173b0"
      },
      "execution_count": 131,
      "outputs": [
        {
          "output_type": "stream",
          "name": "stdout",
          "text": [
            "              precision    recall  f1-score   support\n",
            "\n",
            "       False       0.97      0.98      0.97       147\n",
            "        True       0.73      0.62      0.67        13\n",
            "\n",
            "    accuracy                           0.95       160\n",
            "   macro avg       0.85      0.80      0.82       160\n",
            "weighted avg       0.95      0.95      0.95       160\n",
            "\n"
          ]
        }
      ]
    },
    {
      "cell_type": "markdown",
      "source": [
        "### 기본 모델에 대한 분석\n",
        "- accuracy: 95%\n",
        "- 상식수준에서 확률적으로 나올 수 있는 수준: 92% (735//800) -> 생각보다 accuracy 가 높지 않다는 것을 알 수 있다. 그리고 찍어도 비슷한 accuracy 가 나오기 때문에 Recall 값으로 판단해야한다\n",
        "\n",
        "- 이 경우에는 True 에 대한 Recall 값이 0.67 으로 낮은데, 이는 False Negative, 즉 전설의 포켓몬을 일반포켓몬이라고 생각하는 경우가 높음을 의미한다. -> Recall 값으로 비교하는 것이 타당함!"
      ],
      "metadata": {
        "id": "p-ki5zZhQJw2"
      }
    },
    {
      "cell_type": "markdown",
      "source": [
        "## 3. Feature enginering"
      ],
      "metadata": {
        "id": "trAKWWB1Oz11"
      }
    },
    {
      "cell_type": "markdown",
      "source": [
        "#### 3.1 stats 에 대한 비교\n",
        "- Stats: Attack, Sp. Atk, Speed stat 값이 total 과 거의 비례한다\n",
        "- Total: 평균적으로 7개가 같은 값을 가지고 대략 600 ~ 700 사이"
      ],
      "metadata": {
        "id": "qX2B2GcURp4S"
      }
    },
    {
      "cell_type": "markdown",
      "source": [
        "####3.2 Name 에 따른 비교\n",
        "전설의 포켓몬은 이름의 길이가 10 이상인 경우 확률이 높고, 비슷한이름을 공유한다!\n",
        "\n",
        "- name_counts: 이름의 length 정보를 추가\n",
        "- long_name: name_counts가 10 이상인 경우 True 를 반환하는 coumn 을 추가"
      ],
      "metadata": {
        "id": "AXtLOgkNR55-"
      }
    },
    {
      "cell_type": "code",
      "source": [
        "pokemon[\"name_count\"]=pokemon[\"Name\"].apply(lambda i:len(i))\n",
        "pokemon[\"long_name\"]=pokemon[\"name_count\"]>=10\n",
        "#pokemon.head()"
      ],
      "metadata": {
        "id": "jYRFMPmbSWEb"
      },
      "execution_count": 132,
      "outputs": []
    },
    {
      "cell_type": "markdown",
      "source": [
        "- 전설의 포켓몬들의 이름에서 중복되는 token 은 65개이고, 가장 흔한 것들은 아래와 같다\n",
        "- [('Forme', 15),\n",
        " ('Mega', 6),\n",
        " ('Mewtwo', 5),\n",
        " ('Kyurem', 5),\n",
        " ('Deoxys', 4),\n",
        " ('Hoopa', 4),\n",
        " ('Latias', 3),\n",
        " ('Latios', 3),\n",
        " ('Kyogre', 3),\n",
        " ('Groudon', 3)]\n",
        "\n",
        "\n",
        " - 이것들을 포함하는 지에 대한 여부를 feature 로 추가"
      ],
      "metadata": {
        "id": "BbuS2IIPV9b-"
      }
    },
    {
      "cell_type": "code",
      "source": [
        "# 이름에서 띄어쓰기 모두 없애주고\n",
        "pokemon[\"Name_nospace\"]=pokemon[\"Name\"].apply(lambda i:i.replace(\" \", \"\"))\n",
        "# 알파벳외의 글자가 포함되어있는 경우도 모두 replace\n",
        "pokemon = pokemon.replace(to_replace=\"Nidoran♀\", value=\"Nidoran X\")\n",
        "pokemon = pokemon.replace(to_replace=\"Nidoran♂\", value=\"Nidoran Y\")\n",
        "pokemon = pokemon.replace(to_replace=\"Farfetch'd\", value=\"Farfetchd\")\n",
        "pokemon = pokemon.replace(to_replace=\"Mr. Mime\", value=\"Mr Mime\")\n",
        "pokemon = pokemon.replace(to_replace=\"Porygon2\", value=\"Porygon Two\")\n",
        "pokemon = pokemon.replace(to_replace=\"Ho-oh\", value=\"Ho Oh\")\n",
        "pokemon = pokemon.replace(to_replace=\"Mime Jr.\", value=\"Mime Jr\")\n",
        "pokemon = pokemon.replace(to_replace=\"Porygon-Z\", value=\"Porygon Z\")\n",
        "pokemon = pokemon.replace(to_replace=\"Zygarde50% Forme\", value=\"Zygarde Forme\")\n",
        "\n",
        "pokemon[\"name_isalpha\"] = pokemon[\"Name_nospace\"].apply(lambda i: i.isalpha())\n",
        "# print(pokemon[pokemon[\"name_isalpha\"]==False].shape) -> 모두 alphabet 으로 변겨된 것 확인함 (0,17)\n",
        "\n",
        "# 이름을 토큰화시켜서 전설의포켓몬에서 자주 반복되는 토큰찾기\n",
        "# 이름 토큰화 함수\n",
        "import re\n",
        "def tokenize(name):\n",
        "  name_split=name.split(\" \")\n",
        "  tokens=[]\n",
        "  for part_name in name_split:\n",
        "    a=re.findall('[A-Z][a-z]*', part_name)\n",
        "    tokens.extend(a)\n",
        "  return np.array(tokens)\n",
        "\n",
        "all_tokens=list(legendary[\"Name\"].apply(tokenize).values)\n",
        "token_set=[]\n",
        "for token in all_tokens:\n",
        "  token_set.extend(token)\n",
        "print(len(set(token_set)))\n",
        "\n",
        "from collections import Counter\n",
        "most_common=Counter(token_set).most_common(10)  #가장 흔한 token 을 파악. Frome 가 가장 많음 !!\n",
        "\n",
        "# 가장 흔한 10개의 token 이 포함된 이름인지를 F/T 으로 column 에 입력\n",
        "for token, _ in most_common:\n",
        "  pokemon[f\"{token}\"]=pokemon[\"Name\"].str.contains(token)\n"
      ],
      "metadata": {
        "colab": {
          "base_uri": "https://localhost:8080/"
        },
        "id": "mLWahN8XTRmZ",
        "outputId": "8b8dc59a-5d07-4d17-c0ee-83588e1fa1ef"
      },
      "execution_count": 133,
      "outputs": [
        {
          "output_type": "stream",
          "name": "stdout",
          "text": [
            "65\n"
          ]
        }
      ]
    },
    {
      "cell_type": "markdown",
      "source": [
        "####3.3 Type 에 대한 비교\n",
        "전설의 포켓몬에는 일부 type 이 아예 포함되지 않는다.\n",
        "- type 1, 2 에 따라 one-hot-encoding"
      ],
      "metadata": {
        "id": "DfH0X4TETGMl"
      }
    },
    {
      "cell_type": "code",
      "source": [
        "# type 1 or 2 에 포함되는 type 별로 one-hot-encoding 시행\n",
        "for t in types:\n",
        "  pokemon[t]=(pokemon[\"Type 1\"]==t)|(pokemon[\"Type 2\"]==t)\n",
        "# pokemon[[[\"Type 1\", \"Type 2\"] + types][0]].head() -> one hot encoding 된 것 확인함"
      ],
      "metadata": {
        "id": "1Z2jfRM-S8l-"
      },
      "execution_count": 134,
      "outputs": []
    },
    {
      "cell_type": "markdown",
      "source": [
        "## 4. 비교 모델 만들기 및 평가하기\n",
        "\n",
        "- 4.1 new features with DecisionTree\n",
        "- 4.2 new features with RandomForest\n",
        "- 4.3 new features with SVM\n",
        "- 4.4 new feqtures with SGDClassifier\n",
        "- 4.5 new features with LogisticRegression\n",
        "\n"
      ],
      "metadata": {
        "id": "Q-oY1EnMWwjn"
      }
    },
    {
      "cell_type": "markdown",
      "source": [
        "#### 4.1 New feautures with DecisionTree\n",
        "\n",
        "\n"
      ],
      "metadata": {
        "id": "FSPjxeuQXQBS"
      }
    },
    {
      "cell_type": "code",
      "source": [
        "# original data 에서 전설의포켓몬이 가지고 있는 특성들을 잘 추출할수 있는 새로운 column 을 추가해서 features 를 다시 정의한다\n",
        "new_features = ['Total', 'HP', 'Attack', 'Defense','Sp. Atk', 'Sp. Def', 'Speed', 'Generation',\n",
        "            'name_count','long_name',\n",
        "            'Forme', 'Mega', 'Mewtwo','Deoxys', 'Kyurem', 'Latias', 'Latios',\n",
        "            'Kyogre', 'Groudon', 'Hoopa','Poison', 'Ground', 'Flying', 'Normal', 'Water', 'Fire',\n",
        "            'Electric','Rock', 'Dark', 'Fairy', 'Steel', 'Ghost', 'Psychic', 'Ice', 'Bug', 'Grass', 'Dragon', 'Fighting']\n"
      ],
      "metadata": {
        "id": "lZOZ2eBQO4-I"
      },
      "execution_count": 154,
      "outputs": []
    },
    {
      "cell_type": "code",
      "source": [
        "# New features 를 input 으로 갖는 새로운 X 를 설정\n",
        "X=pokemon[new_features]\n",
        "y=pokemon[target]\n",
        "\n",
        "X_train, X_test, y_train, y_test = train_test_split(X,y,test_size=0.2, random_state=15)\n",
        "\n",
        "#print(X_train.shape, y_train.shape)\n",
        "#print(X_test.shape, y_test.shape)\n",
        "\n",
        "###### model1: new features with DecisionTree\n",
        "model=DecisionTreeClassifier(random_state=25)\n",
        "\n",
        "# model1 에 training 시킨 후 test 값 얻기\n",
        "model.fit(X_train, y_train)\n",
        "y_pred=model.predict(X_test)\n",
        "\n",
        "# 모델에 대해 평가하기\n",
        "cm1=confusion_matrix(y_test, y_pred)\n",
        "print(classification_report(y_test, y_pred))"
      ],
      "metadata": {
        "colab": {
          "base_uri": "https://localhost:8080/"
        },
        "id": "qOwedqZXW1qa",
        "outputId": "a68d834e-4bbf-4e6f-8bad-e47ce4e7d13c"
      },
      "execution_count": 155,
      "outputs": [
        {
          "output_type": "stream",
          "name": "stdout",
          "text": [
            "              precision    recall  f1-score   support\n",
            "\n",
            "       False       0.99      0.96      0.98       147\n",
            "        True       0.67      0.92      0.77        13\n",
            "\n",
            "    accuracy                           0.96       160\n",
            "   macro avg       0.83      0.94      0.87       160\n",
            "weighted avg       0.97      0.96      0.96       160\n",
            "\n"
          ]
        }
      ]
    },
    {
      "cell_type": "markdown",
      "source": [
        "#### 4.2 New feautures with RandomForest"
      ],
      "metadata": {
        "id": "t92k-4MeZ-AG"
      }
    },
    {
      "cell_type": "code",
      "source": [
        "###### model2: new features with RandomForest\n",
        "from sklearn.ensemble import RandomForestClassifier\n",
        "model=RandomForestClassifier(random_state=25)\n",
        "\n",
        "# model2 에 training 시킨 후 test 값 얻기\n",
        "model.fit(X_train, y_train)\n",
        "y_pred=model.predict(X_test)\n",
        "\n",
        "# 모델에 대해 평가하기\n",
        "cm2=confusion_matrix(y_test, y_pred)\n",
        "print(classification_report(y_test, y_pred))"
      ],
      "metadata": {
        "colab": {
          "base_uri": "https://localhost:8080/"
        },
        "id": "WDkTUfftaJ35",
        "outputId": "bc97b7e5-d1cb-4032-eb13-cad67b590076"
      },
      "execution_count": 156,
      "outputs": [
        {
          "output_type": "stream",
          "name": "stdout",
          "text": [
            "              precision    recall  f1-score   support\n",
            "\n",
            "       False       0.98      0.97      0.98       147\n",
            "        True       0.71      0.77      0.74        13\n",
            "\n",
            "    accuracy                           0.96       160\n",
            "   macro avg       0.85      0.87      0.86       160\n",
            "weighted avg       0.96      0.96      0.96       160\n",
            "\n"
          ]
        }
      ]
    },
    {
      "cell_type": "markdown",
      "source": [
        "#### 4.3 New feautures with SVM"
      ],
      "metadata": {
        "id": "CQZkXni1aEzh"
      }
    },
    {
      "cell_type": "code",
      "source": [
        "###### model3: new features with SVM\n",
        "from sklearn import svm\n",
        "svm_model=svm.SVC()\n",
        "\n",
        "# model3 에 training 시킨 후 test 값 얻기\n",
        "svm_model.fit(X_train, y_train)\n",
        "y_pred=svm_model.predict(X_test)\n",
        "\n",
        "# 모델에 대해 평가하기\n",
        "cm3=confusion_matrix(y_test, y_pred)\n",
        "print(classification_report(y_test, y_pred))"
      ],
      "metadata": {
        "colab": {
          "base_uri": "https://localhost:8080/"
        },
        "id": "RoLHIZfuat3X",
        "outputId": "1031da0b-4a64-4a9c-8f20-789d0b0c308f"
      },
      "execution_count": 157,
      "outputs": [
        {
          "output_type": "stream",
          "name": "stdout",
          "text": [
            "              precision    recall  f1-score   support\n",
            "\n",
            "       False       0.96      0.99      0.97       147\n",
            "        True       0.78      0.54      0.64        13\n",
            "\n",
            "    accuracy                           0.95       160\n",
            "   macro avg       0.87      0.76      0.80       160\n",
            "weighted avg       0.95      0.95      0.95       160\n",
            "\n"
          ]
        }
      ]
    },
    {
      "cell_type": "markdown",
      "source": [
        "#### 4.4 New feautures with SGDClassifier"
      ],
      "metadata": {
        "id": "4Vob7msHbQHf"
      }
    },
    {
      "cell_type": "code",
      "source": [
        "###### model4: new features with SGDClassifier\n",
        "from sklearn.linear_model import SGDClassifier\n",
        "sgd_model=SGDClassifier()\n",
        "\n",
        "# model3 에 training 시킨 후 test 값 얻기\n",
        "sgd_model.fit(X_train, y_train)\n",
        "y_pred=sgd_model.predict(X_test)\n",
        "\n",
        "# 모델에 대해 평가하기\n",
        "cm4=confusion_matrix(y_test, y_pred)\n",
        "print(classification_report(y_test, y_pred))"
      ],
      "metadata": {
        "colab": {
          "base_uri": "https://localhost:8080/"
        },
        "id": "x2tuve95bSx_",
        "outputId": "c45efe5e-3e65-4761-a906-5874bb1590f4"
      },
      "execution_count": 158,
      "outputs": [
        {
          "output_type": "stream",
          "name": "stdout",
          "text": [
            "              precision    recall  f1-score   support\n",
            "\n",
            "       False       0.92      0.92      0.92       147\n",
            "        True       0.08      0.08      0.08        13\n",
            "\n",
            "    accuracy                           0.85       160\n",
            "   macro avg       0.50      0.50      0.50       160\n",
            "weighted avg       0.85      0.85      0.85       160\n",
            "\n"
          ]
        }
      ]
    },
    {
      "cell_type": "markdown",
      "source": [
        "#### 4.5 New feautures with LogisticRegression"
      ],
      "metadata": {
        "id": "x3BjWm5ZbTEv"
      }
    },
    {
      "cell_type": "code",
      "source": [
        "###### model5: new features with LogisticRegression\n",
        "from sklearn.linear_model import LogisticRegression\n",
        "logistic_model=LogisticRegression()\n",
        "\n",
        "# model3 에 training 시킨 후 test 값 얻기\n",
        "logistic_model.fit(X_train, y_train)\n",
        "y_pred=logistic_model.predict(X_test)\n",
        "\n",
        "# 모델에 대해 평가하기\n",
        "cm5=confusion_matrix(y_test, y_pred)\n",
        "print(classification_report(y_test, y_pred))"
      ],
      "metadata": {
        "colab": {
          "base_uri": "https://localhost:8080/"
        },
        "id": "N83yttbNbnwo",
        "outputId": "ccd9c27e-221d-48e3-ca19-29ec90b95eca"
      },
      "execution_count": 159,
      "outputs": [
        {
          "output_type": "stream",
          "name": "stdout",
          "text": [
            "              precision    recall  f1-score   support\n",
            "\n",
            "       False       0.95      1.00      0.98       147\n",
            "        True       1.00      0.46      0.63        13\n",
            "\n",
            "    accuracy                           0.96       160\n",
            "   macro avg       0.98      0.73      0.80       160\n",
            "weighted avg       0.96      0.96      0.95       160\n",
            "\n"
          ]
        },
        {
          "output_type": "stream",
          "name": "stderr",
          "text": [
            "/usr/local/lib/python3.10/dist-packages/sklearn/linear_model/_logistic.py:460: ConvergenceWarning: lbfgs failed to converge (status=1):\n",
            "STOP: TOTAL NO. of ITERATIONS REACHED LIMIT.\n",
            "\n",
            "Increase the number of iterations (max_iter) or scale the data as shown in:\n",
            "    https://scikit-learn.org/stable/modules/preprocessing.html\n",
            "Please also refer to the documentation for alternative solver options:\n",
            "    https://scikit-learn.org/stable/modules/linear_model.html#logistic-regression\n",
            "  n_iter_i = _check_optimize_result(\n"
          ]
        }
      ]
    },
    {
      "cell_type": "markdown",
      "source": [
        "## 5. 모델별로 비교분석"
      ],
      "metadata": {
        "id": "3u5vhs_Kc-mx"
      }
    },
    {
      "cell_type": "code",
      "source": [
        "result_FN=(cm1[1][0], cm2[1][0], cm3[1][0], cm4[1][0], cm5[1][0])\n",
        "#print(result_FN)\n",
        "subjects=[\"DecisionTree\", \"RandomForest\", \"SVM\", \"SGDClassifier\", \"LogisticRegression\"]\n",
        "\n",
        "fig=plt.figure()\n",
        "fig=plt.figure(figsize=(10,2))\n",
        "\n",
        "ax1=fig.add_subplot(1,1,1)\n",
        "ax1.bar(subjects, result_FN)\n",
        "plt.title('False Negative result')\n",
        "\n",
        "plt.show()"
      ],
      "metadata": {
        "colab": {
          "base_uri": "https://localhost:8080/",
          "height": 253
        },
        "id": "Fyq3jPbedGan",
        "outputId": "0123b8dd-0481-4cc4-e36a-44b3711af6d8"
      },
      "execution_count": 171,
      "outputs": [
        {
          "output_type": "display_data",
          "data": {
            "text/plain": [
              "<Figure size 640x480 with 0 Axes>"
            ]
          },
          "metadata": {}
        },
        {
          "output_type": "display_data",
          "data": {
            "text/plain": [
              "<Figure size 1000x200 with 1 Axes>"
            ],
            "image/png": "[encoded data removed]"
          },
          "metadata": {
            "image/png": {
              "width": 822,
              "height": 219
            }
          }
        }
      ]
    },
    {
      "cell_type": "markdown",
      "source": [
        "- 가장 FN 가 낮은 모델은 DecisionTree 임이 확인되었다. 비선형적인 관계를 예측하고 데이터의 노이즈가 별로 없었던 경우이므로 결과가 가장 좋게 나올 수 있었다.\n",
        "\n",
        "- 이외로는, 레전드포켓몬을 구분하는 데에 있어서 Linear 관계를 탐색하는 모델인 SVM, SGD, Classifier 는 레전드 포켓몬이 feature 와 항상 linear 한 관계를 갖지 않는다는 점에서 결과가 나쁘게 나올 수 있다. feature 를 다른 것을 사용한다면 더 좋은 결과가 나올수도 있겠다."
      ],
      "metadata": {
        "id": "rn3TfWTOkL_D"
      }
    },
    {
      "cell_type": "markdown",
      "source": [
        "##6. 회고 및 Reference"
      ],
      "metadata": {
        "id": "8f6PWppgdHQj"
      }
    },
    {
      "cell_type": "markdown",
      "source": [
        "#### 회고\n",
        "- 생각보다 데이터셋을 feature engineering 하는데에 오랜 시간이 걸리고, 데이터를 만지는 데에 조심하지 않으면 결과값이 완전히 달라질 수 있을 것 같다는 생각이 들었다.\n",
        "- 모델을 비교할 때 모델에 대한 이해와 데이터의 분포나 특성에 대한 이해가 동반되어야 하기 때문에 무작정 코딩해서 결과값이 나오더라도 이것을 이해하는 것은 더어려운 것 가탇.\n",
        "- 그래서 차라리 데이터를 더 자세히 훑어보는 것이 최종 평가로 모델을 설정하는 데에는 더 유리할 것 같다는 생각이 든다 !!"
      ],
      "metadata": {
        "id": "i2w6U2zudRO5"
      }
    },
    {
      "cell_type": "markdown",
      "source": [
        "#### Reference\n",
        "- https://velog.io/@gongsam/%EB%A8%B8%EC%8B%A0%EB%9F%AC%EB%8B%9D-%EB%AA%A8%EB%8D%B8-%EB%B9%84%EA%B5%90-1-Decision-Tree%EC%99%80-RandomForest\n",
        "\n",
        "- https://velog.io/@gongsam/%EB%A8%B8%EC%8B%A0%EB%9F%AC%EB%8B%9D-%EB%AA%A8%EB%8D%B8-%EB%B9%84%EA%B5%90-2-SVM-SGD-Logistic-Regression\n",
        "\n",
        "- https://m.blog.naver.com/hannaurora/222498671200"
      ],
      "metadata": {
        "id": "TcMIcLihdnCw"
      }
    }
  ]
}