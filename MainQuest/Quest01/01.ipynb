{
  "nbformat": 4,
  "nbformat_minor": 0,
  "metadata": {
    "colab": {
      "provenance": [],
      "authorship_tag": "ABX9TyMO31PKgFSoNdkzZgfnKILg",
      "include_colab_link": true
    },
    "kernelspec": {
      "name": "python3",
      "display_name": "Python 3"
    },
    "language_info": {
      "name": "python"
    }
  },
  "cells": [
    {
      "cell_type": "markdown",
      "metadata": {
        "id": "view-in-github",
        "colab_type": "text"
      },
      "source": [
        "<a href=\"https://colab.research.google.com/github/jyns417/Aiffel_quest_cr2/blob/master/MainQuest/Quest01/01.ipynb\" target=\"_parent\"><img src=\"https://colab.research.google.com/assets/colab-badge.svg\" alt=\"Open In Colab\"/></a>"
      ]
    },
    {
      "cell_type": "markdown",
      "source": [
        "## Main Quest 01-1 ##"
      ],
      "metadata": {
        "id": "HXgKPu5-YNcc"
      }
    },
    {
      "cell_type": "code",
      "execution_count": 114,
      "metadata": {
        "id": "vspj3NjzD4e3"
      },
      "outputs": [],
      "source": [
        "import random as r\n",
        "\n",
        "class Account:\n",
        "  account_dic=dict() #SC bank고객정보. {k:(고객이름, 계좌번호), v: 잔고}\n",
        "  sum=0\n",
        "\n",
        "  def __init__(self, name, money):\n",
        "  #account의 예금주와 초기잔액을 설정\n",
        "    self.name=name #string\n",
        "    self.money=money #account의 총잔고\n",
        "    self.serial=''  #계좌번호는 총 11자리, 0-9 의 ranmdom 숫자를 요소로 갖는 list\n",
        "    self.history=[] # 입출금목록. [['입금(1)'/'출금(0)'/'이자지급(2)', 입금금액, 당시 총잔고]]. 처음 계좌만들때 넣는 잔고는 포함되지 않음.\n",
        "\n",
        "    # 11자리의 계좌번호 생성, string type\n",
        "    for i in range(10):\n",
        "      s=r.randint(0,10)\n",
        "      self.serial=self.serial+str(s)\n",
        "\n",
        "    #은행의 고객dictionary update 는 잔액이 바뀔때마다 해준다\n",
        "    Account.account_dic.update({(self.name,self.serial): self.money})\n",
        "    Account.sum+=1\n",
        "\n",
        "    #100만원 이상 고객 정보만 출력\n",
        "    Account.get_account_num()\n",
        "    if self.money >= 1000000:\n",
        "      Account.display_info(self)\n",
        "\n",
        "  def get_account_num():\n",
        "  #SC bank 에서 지금까지 생성된 총 account 갯수를 list 형식으로 반환\n",
        "    return print(f'생성된 계좌의 개수:{Account.sum}')\n",
        "\n",
        "  def deposit(self, input_money):\n",
        "  #생성된 account 인스턴스에 input_money 만큼 입금\n",
        "    if input_money > 0 :\n",
        "      self.money+=input_money\n",
        "      self.history.append([1,input_money, self.money ])\n",
        "    else: #예외처리: 입금은 최소 1원이상만 가능\n",
        "      return print('입금은 최소 1원 이상만 가능합니다.')\n",
        "\n",
        "   #입금횟수가 5회째인 경우(key 값이인 경우가 5,10,15.. 인 경우) 추가로 은행에서 이자 1% 추가\n",
        "    j=0\n",
        "    for i in range(len(self.history)):\n",
        "      if self.history[i][0]==1:\n",
        "          j=j+1\n",
        "    if j>0 and j%5==0:\n",
        "      self.history.append([2, int(self.money*0.01), int(self.money*1.01)])\n",
        "      self.money=int(self.money*1.01)\n",
        "\n",
        "    #SC은행의 고객리스트 update 는 잔액이 바뀔때마다 해준다\n",
        "    Account.account_dic.update({(self.name,self.serial): self.money})\n",
        "\n",
        "  def withdraw(self, output_money):\n",
        "  #  생성된 account 인스턴스에 output_money 만큼 출금\n",
        "  #  print(output_money)\n",
        "  #  print(self.money)\n",
        "    if output_money < self.money :\n",
        "      self.money-=output_money\n",
        "      self.history.append([0, output_money, self.money])\n",
        "   #   print(1)\n",
        "    else : #예외처리: 출금은 계좌잔고 이상으로는 불가능\n",
        "      return print('계좌 잔고 이상으로 출금할수는 없습니다')\n",
        "    #SC은행의 고객리스트 update 는 잔액이 바뀔때마다 해준다\n",
        "    Account.account_dic.update({(self.name,self.serial): self.money})\n",
        "\n",
        "  def display_info(self):\n",
        "  #은행이름: SC은행, 예금주: 파이썬, 계좌번호: 111-11-111111, 잔고: 10,000원) 형식으로 출력\n",
        "    print(f'은행이름: SC bank, 예금주:{self.name}, 계좌번호:{self.serial[0:3]}-{self.serial[3:5]}-{self.serial[5:]}, 잔고:{self.money:}원')\n",
        "\n",
        "  def deposit_history(self):\n",
        "    for i in range(len(self.history)):\n",
        "      if self.history[i][0]==1 :\n",
        "        print(f\"{i+1}회: 입금        금액: {self.history[i][1]}     잔액: {self.history[i][2]}    \")\n",
        "      elif self.history[i][0]==2:\n",
        "        print(f\"{i+1}회: 이자지급    금액: {self.history[i][1]}     잔액: {self.history[i][2]}    \")\n",
        "\n",
        "\n",
        "  def withdraw_history(self):\n",
        "    for i in range(len(self.history)):\n",
        "      if self.history[i][0]==0:\n",
        "        print(f\"{i+1}회: 출금        금액: {self.history[i][1]}     잔액: {self.history[i][2]}    \")\n",
        "\n"
      ]
    },
    {
      "cell_type": "code",
      "source": [
        "first_account=Account('차정은', 1000)\n",
        "second_account=Account('박광석', 30000000)\n",
        "third_account=Account('조웅제', 50000000)"
      ],
      "metadata": {
        "colab": {
          "base_uri": "https://localhost:8080/"
        },
        "id": "VxZWo_gxEDyX",
        "outputId": "949cda77-3b5e-4f6a-b670-389ac74a64e2"
      },
      "execution_count": 115,
      "outputs": [
        {
          "output_type": "stream",
          "name": "stdout",
          "text": [
            "생성된 계좌의 개수:1\n",
            "생성된 계좌의 개수:2\n",
            "은행이름: SC bank, 예금주:박광석, 계좌번호:204-53-0105410, 잔고:30000000원\n",
            "생성된 계좌의 개수:3\n",
            "은행이름: SC bank, 예금주:조웅제, 계좌번호:011-03-610938, 잔고:50000000원\n"
          ]
        }
      ]
    },
    {
      "cell_type": "code",
      "source": [
        "my_account=Account('차정은', 1000)\n",
        "for i in range(10):\n",
        "  my_account.deposit(1000)\n",
        "\n",
        "my_account.deposit(-1000)\n",
        "my_account.withdraw(3000000)\n",
        "my_account.withdraw(3000)\n"
      ],
      "metadata": {
        "colab": {
          "base_uri": "https://localhost:8080/"
        },
        "id": "GXHn4QppEENI",
        "outputId": "9db93737-abc7-4623-f0d2-62f9eeb94e6d"
      },
      "execution_count": 116,
      "outputs": [
        {
          "output_type": "stream",
          "name": "stdout",
          "text": [
            "생성된 계좌의 개수:4\n",
            "입금은 최소 1원 이상만 가능합니다.\n",
            "계좌 잔고 이상으로 출금할수는 없습니다\n"
          ]
        }
      ]
    },
    {
      "cell_type": "code",
      "source": [
        "my_account.deposit_history()\n",
        "print('-'*50)\n",
        "my_account.withdraw_history()"
      ],
      "metadata": {
        "colab": {
          "base_uri": "https://localhost:8080/"
        },
        "id": "0E_u0srnEGSW",
        "outputId": "5b0cdb31-fd1d-4214-c096-85982dc915a2"
      },
      "execution_count": 117,
      "outputs": [
        {
          "output_type": "stream",
          "name": "stdout",
          "text": [
            "1회: 입금        금액: 1000     잔액: 2000    \n",
            "2회: 입금        금액: 1000     잔액: 3000    \n",
            "3회: 입금        금액: 1000     잔액: 4000    \n",
            "4회: 입금        금액: 1000     잔액: 5000    \n",
            "5회: 입금        금액: 1000     잔액: 6000    \n",
            "6회: 이자지급    금액: 60     잔액: 6060    \n",
            "7회: 입금        금액: 1000     잔액: 7060    \n",
            "8회: 입금        금액: 1000     잔액: 8060    \n",
            "9회: 입금        금액: 1000     잔액: 9060    \n",
            "10회: 입금        금액: 1000     잔액: 10060    \n",
            "11회: 입금        금액: 1000     잔액: 11060    \n",
            "12회: 이자지급    금액: 110     잔액: 11170    \n",
            "--------------------------------------------------\n",
            "13회: 출금        금액: 3000     잔액: 8170    \n"
          ]
        }
      ]
    },
    {
      "cell_type": "markdown",
      "source": [
        "## MainQuest01-2"
      ],
      "metadata": {
        "id": "q5FgCYrfYTRh"
      }
    },
    {
      "cell_type": "code",
      "source": [
        "import random as r\n",
        "\n",
        "class Character:\n",
        "  def __init__(self, name, level, force, af, df):\n",
        "    self.name=name\n",
        "    self.level=level\n",
        "    self.force=force #체력\n",
        "    self.af=af #공격력\n",
        "    self.df=df #방어력\n",
        "\n",
        "  def is_live(self):\n",
        "    #인스턴스의 체력이 0이면 TRUE를 반환/아니면 FALSE 를 반환\n",
        "    return self.force==0\n",
        "\n",
        "  def take_advantage(self, d):\n",
        "    #본인의 방어력<= 데미지: d의 damage 를 받았을 때 현재체력을 감소시킨다\n",
        "    #본인의 방어력>데미지: 체력은 감소되지 않는다\n",
        "    if self.df <= d:\n",
        "      self.force-=d\n",
        "\n",
        "  def attack_target(self):\n",
        "    d=r.randint(1,self.af+1) #타겟에 주는 damage d는 0~af까지 random 한 정수\n",
        "    #print(d)\n",
        "    return d\n",
        "\n",
        "\n",
        "class Player(Character):\n",
        "  def __init__(self, name):\n",
        "    # 레벨 1, 체력 100, 공격력 25, 방어력 5로 초기화\n",
        "    super().__init__(name, 1, 100, 25, 5)\n",
        "    self.exp=0 #경험치속성\n",
        "\n",
        "  def gain_experience(self, ex):\n",
        "    self.exp+=ex\n",
        "    # 정수만큼 경험치를 획득\n",
        "\n",
        "  def level_up(self):\n",
        "    # 현재 경험치가 50이상이면 레벨을 1, 공격력을 10, 방어력을 5씩 올리는 함수\n",
        "    if self.exp >= 50:\n",
        "      self.level+=1\n",
        "      self.af+=10\n",
        "      self.df+=5\n",
        "\n",
        "class Monster(Character):\n",
        "  def __init__(self, name, level):\n",
        "    # 몬스터의 레벨에 비례하는 체력, 공격력, 방어력 초기화\n",
        "    f=r.randint(10,31)*level\n",
        "    af=r.randint(5,21)*level\n",
        "    df=r.randint(1,6)*level\n",
        "    super().__init__(name, level, f, af, df)\n"
      ],
      "metadata": {
        "id": "7Jor51KZYZfe"
      },
      "execution_count": 93,
      "outputs": []
    },
    {
      "cell_type": "code",
      "source": [
        "def battle(p, m):\n",
        "  while p.force>0 and m.force>0:\n",
        "  #둘다 모두 force 가 0이 아닌 경우 계속 battle 을 진행한다\n",
        "    # player 가 monster 를 공격\n",
        "    #print(f'** round1 : player의 체력:{p.force}, monster의 체력:{m.force}')\n",
        "    d=p.attack_target()\n",
        "    m.take_advantage(d)\n",
        "    print(f'{p.name}이 {m.name}에게 {d} 만큼 공격했다...!')\n",
        "    print(f'{m.name}의 체력: {m.force}')\n",
        "    if m.force <= 0: #player 가 살아남은경우\n",
        "      p.gain_experience(m.level*20)\n",
        "      p.level_up()\n",
        "      print('전투승리!')\n",
        "      return 1\n",
        "      break\n",
        "\n",
        "    # monster 가 player 를 공격\n",
        "    #print(f'** round2 : player의 체력:{p.force}, monster의 체력:{m.force}')\n",
        "    d=m.attack_target()\n",
        "    p.take_advantage(d)\n",
        "    print(f'{m.name}이 {p.name}에게 {m.attack_target()} 만큼 공격했다...!')\n",
        "    print(f'{p.name}의 체력: {p.force}')\n",
        "    if p.force <= 0: #monster 가 살아남은 경우\n",
        "      print('전투패배...')\n",
        "      return 0\n",
        "      break"
      ],
      "metadata": {
        "id": "5f3yf_zbaUQ0"
      },
      "execution_count": 107,
      "outputs": []
    },
    {
      "cell_type": "code",
      "source": [
        "## main\n",
        "monster_dict={'슬라임':1,'고블린':2,'오크':3}\n",
        "monster_name=list(monster_dict.keys())\n",
        "monster_level=list(monster_dict.values())\n",
        "\n",
        "my_player=Player(input('player 의 이름을 입력하시오'))\n",
        "\n",
        "status=1\n",
        "while status:\n",
        "#return 값이 계속 1인 경우: player 가 살아남은 경우 battle을 진행한다\n",
        "  for i in range(len(monster_dict)):\n",
        "    # 생성된 Monster 인스턴스와 Player 인스턴스가 battle 함수를 통해 전투\n",
        "    this_monster=Monster(monster_name[i], monster_level[i])\n",
        "    status=battle(my_player, this_monster) # battle 에서 져서 0 을 return, status 를 바꾼다\n",
        "\n",
        "# status 가 0 이되면 while 문을 빠져나옴\n",
        "print('Game over ')"
      ],
      "metadata": {
        "colab": {
          "base_uri": "https://localhost:8080/"
        },
        "id": "refxpZmM1hg5",
        "outputId": "ca6fcd7e-66e1-4953-daa6-3a9869442401"
      },
      "execution_count": 113,
      "outputs": [
        {
          "output_type": "stream",
          "name": "stdout",
          "text": [
            "player 의 이름을 입력하시오a\n",
            "** round1 : player의 체력:100, monster의 체력:18\n",
            "a이 슬라임에게 2 만큼 공격했다...!\n",
            "슬라임의 체력: 18\n",
            "** round2 : player의 체력:100, monster의 체력:18\n",
            "슬라임이 a에게 15 만큼 공격했다...!\n",
            "a의 체력: 100\n",
            "** round1 : player의 체력:100, monster의 체력:18\n",
            "a이 슬라임에게 22 만큼 공격했다...!\n",
            "슬라임의 체력: -4\n",
            "전투승리!\n",
            "** round1 : player의 체력:100, monster의 체력:46\n",
            "a이 고블린에게 19 만큼 공격했다...!\n",
            "고블린의 체력: 27\n",
            "** round2 : player의 체력:100, monster의 체력:27\n",
            "고블린이 a에게 7 만큼 공격했다...!\n",
            "a의 체력: 100\n",
            "** round1 : player의 체력:100, monster의 체력:27\n",
            "a이 고블린에게 21 만큼 공격했다...!\n",
            "고블린의 체력: 6\n",
            "** round2 : player의 체력:100, monster의 체력:6\n",
            "고블린이 a에게 18 만큼 공격했다...!\n",
            "a의 체력: 83\n",
            "** round1 : player의 체력:83, monster의 체력:6\n",
            "a이 고블린에게 8 만큼 공격했다...!\n",
            "고블린의 체력: -2\n",
            "전투승리!\n",
            "** round1 : player의 체력:83, monster의 체력:69\n",
            "a이 오크에게 26 만큼 공격했다...!\n",
            "오크의 체력: 43\n",
            "** round2 : player의 체력:83, monster의 체력:43\n",
            "오크이 a에게 55 만큼 공격했다...!\n",
            "a의 체력: 42\n",
            "** round1 : player의 체력:42, monster의 체력:43\n",
            "a이 오크에게 14 만큼 공격했다...!\n",
            "오크의 체력: 29\n",
            "** round2 : player의 체력:42, monster의 체력:29\n",
            "오크이 a에게 21 만큼 공격했다...!\n",
            "a의 체력: 29\n",
            "** round1 : player의 체력:29, monster의 체력:29\n",
            "a이 오크에게 20 만큼 공격했다...!\n",
            "오크의 체력: 9\n",
            "** round2 : player의 체력:29, monster의 체력:9\n",
            "오크이 a에게 5 만큼 공격했다...!\n",
            "a의 체력: -28\n",
            "전투패배...\n",
            "Game over \n"
          ]
        }
      ]
    }
  ]
}